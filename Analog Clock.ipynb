{
 "cells": [
  {
   "cell_type": "code",
   "execution_count": 1,
   "id": "6cc3a60b",
   "metadata": {},
   "outputs": [],
   "source": [
    "import tkinter as tk\n",
    "import time\n",
    "import math"
   ]
  },
  {
   "cell_type": "code",
   "execution_count": 2,
   "id": "2cf5559b",
   "metadata": {},
   "outputs": [],
   "source": [
    "WIDTH = 400\n",
    "HEIGHT = 400"
   ]
  },
  {
   "cell_type": "code",
   "execution_count": 12,
   "id": "ca300e49",
   "metadata": {},
   "outputs": [],
   "source": [
    "root = tk.Tk()\n",
    "root.title(\"Analog Clock\")\n",
    "canvas = tk.Canvas(root, width=WIDTH, height=HEIGHT, bg=\"white\")\n",
    "canvas.pack()\n",
    "\n",
    "def update_clock():\n",
    "    canvas.delete(\"all\")\n",
    "    now = time.localtime()\n",
    "    hour = now.tm_hour % 12\n",
    "    minute = now.tm_min\n",
    "    second = now.tm_sec\n",
    "    \n",
    "    canvas.create_oval(2, 2, WIDTH, HEIGHT, outline=\"black\", width=2)\n",
    "    \n",
    "    for i in range(12):\n",
    "        angle = i * math.pi/6 - math.pi/2\n",
    "        x = WIDTH/2 + 0.7 * WIDTH/2 * math.cos(angle)\n",
    "        y = HEIGHT/2 + 0.7 * HEIGHT/2 * math.sin(angle)\n",
    "        if i == 0:\n",
    "            canvas.create_text(x, y-10, text=str(i+12), font=(\"Helvetica\", 12))\n",
    "        else:\n",
    "            canvas.create_text(x, y, text=str(i), font=(\"Helvetica\", 12))\n",
    "         \n",
    "    for i in range(60):\n",
    "        angle = i * math.pi/30 - math.pi/2\n",
    "        x1 = WIDTH/2 + 0.8 * WIDTH/2 * math.cos(angle)\n",
    "        y1 = HEIGHT/2 + 0.8 * HEIGHT/2 * math.sin(angle)\n",
    "        x2 = WIDTH/2 + 0.9 * WIDTH/2 * math.cos(angle)\n",
    "        y2 = HEIGHT/2 + 0.9 * HEIGHT/2 * math.sin(angle)\n",
    "        if i % 5 == 0:\n",
    "            canvas.create_line(x1, y1, x2, y2, fill=\"black\", width=3)\n",
    "        else:\n",
    "            canvas.create_line(x1, y1, x2, y2, fill=\"black\", width=1)\n",
    "            \n",
    "    hour_angle = (hour + minute/60) * math.pi/6 - math.pi/2\n",
    "    hour_x = WIDTH/2 + 0.5 * WIDTH/2 * math.cos(hour_angle)\n",
    "    hour_y = HEIGHT/2 + 0.5 * HEIGHT/2 * math.sin(hour_angle)\n",
    "    canvas.create_line(WIDTH/2, HEIGHT/2, hour_x, hour_y, fill=\"black\", width=6)\n",
    "    \n",
    "    minute_angle = (minute + second/60) * math.pi/30 - math.pi/2\n",
    "    minute_x = WIDTH/2 + 0.7 * WIDTH/2 * math.cos(minute_angle)\n",
    "    minute_y = HEIGHT/2 + 0.7 * HEIGHT/2 * math.sin(minute_angle)\n",
    "    canvas.create_line(WIDTH/2, HEIGHT/2, minute_x, minute_y, fill=\"black\", width=4)\n",
    "    \n",
    "    second_angle = second * math.pi/30 - math.pi/2\n",
    "    second_x = WIDTH/2 + 0.6 * WIDTH/2 * math.cos(second_angle)\n",
    "    second_y = HEIGHT/2 + 0.6 * HEIGHT/2 * math.sin(second_angle)\n",
    "    canvas.create_line(WIDTH/2, HEIGHT/2, second_x, second_y, fill=\"red\", width=2)\n",
    "    \n",
    "canvas.after(1000, update_clock)\n",
    "\n",
    "update_clock()\n",
    "root.mainloop()"
   ]
  }
 ],
 "metadata": {
  "kernelspec": {
   "display_name": "Python 3 (ipykernel)",
   "language": "python",
   "name": "python3"
  },
  "language_info": {
   "codemirror_mode": {
    "name": "ipython",
    "version": 3
   },
   "file_extension": ".py",
   "mimetype": "text/x-python",
   "name": "python",
   "nbconvert_exporter": "python",
   "pygments_lexer": "ipython3",
   "version": "3.11.3"
  }
 },
 "nbformat": 4,
 "nbformat_minor": 5
}
